{
 "cells": [
  {
   "cell_type": "code",
   "execution_count": 20,
   "metadata": {},
   "outputs": [],
   "source": [
    "# Dependencies\n",
    "import tweepy\n",
    "import json\n",
    "import numpy as np\n",
    "import pandas as pd\n",
    "#import seaborn as sns\n",
    "import matplotlib.pyplot as plt\n",
    "from matplotlib import style\n",
    "style.use('ggplot')\n",
    "\n",
    "# Import and Initialize Sentiment Analyzer\n",
    "from vaderSentiment.vaderSentiment import SentimentIntensityAnalyzer\n",
    "analyzer = SentimentIntensityAnalyzer()\n",
    "\n",
    "# Twitter API Keys\n",
    "from config import (consumer_key, \n",
    "                    consumer_secret, \n",
    "                    access_token, \n",
    "                    access_token_secret)\n",
    "\n",
    "# Setup Tweepy API Authentication\n",
    "auth = tweepy.OAuthHandler(consumer_key, consumer_secret)\n",
    "auth.set_access_token(access_token, access_token_secret)\n",
    "api = tweepy.API(auth)"
   ]
  },
  {
   "cell_type": "code",
   "execution_count": 24,
   "metadata": {},
   "outputs": [],
   "source": [
    "# Target User Accounts\n",
    "news_org = ['@BBC', '@CBS', '@CNN', '@FoxNews', '@nytimes']\n",
    "\n",
    "# List for dictionaries of results\n",
    "sentiment =[]\n",
    "\n",
    "# Counter\n",
    "counter = 1\n",
    "\n",
    "#  Loop through tweets (total 100 tweets)\n",
    "\n",
    "for news in news_org:\n",
    "    \n",
    "    for item in tweepy.Cursor(api.user_timeline, id=news).items(100):\n",
    "        \n",
    "        tweet = json.dumps(item._json, indent=3)\n",
    "        tweet = json.loads(tweet)\n",
    "        text = tweet['text']\n",
    "        \n",
    "        # Run Vader Analysis on each tweet\n",
    "        compound = analyzer.polarity_scores(text)[\"compound\"]\n",
    "        pos = analyzer.polarity_scores(text)[\"pos\"]\n",
    "        neu = analyzer.polarity_scores(text)[\"neu\"]\n",
    "        neg = analyzer.polarity_scores(text)[\"neg\"]\n",
    "        \n",
    "        # Add sentiments for each tweet into a list\n",
    "        news_dict = {\n",
    "            'source':news,\n",
    "            'date': tweet[\"created_at\"],\n",
    "            'text':text,\n",
    "            'compound': compound,\n",
    "            'positive': pos,\n",
    "            'negative': neg,\n",
    "            'tweets ago': counter}\n",
    "        \n",
    "        sentiment.append(news_dict)\n",
    "        \n",
    "        # Add to counter \n",
    "        counter +=1"
   ]
  },
  {
   "cell_type": "code",
   "execution_count": 22,
   "metadata": {},
   "outputs": [
    {
     "data": {
      "text/html": [
       "<div>\n",
       "<style scoped>\n",
       "    .dataframe tbody tr th:only-of-type {\n",
       "        vertical-align: middle;\n",
       "    }\n",
       "\n",
       "    .dataframe tbody tr th {\n",
       "        vertical-align: top;\n",
       "    }\n",
       "\n",
       "    .dataframe thead th {\n",
       "        text-align: right;\n",
       "    }\n",
       "</style>\n",
       "<table border=\"1\" class=\"dataframe\">\n",
       "  <thead>\n",
       "    <tr style=\"text-align: right;\">\n",
       "      <th></th>\n",
       "      <th>compound</th>\n",
       "      <th>date</th>\n",
       "      <th>negative</th>\n",
       "      <th>positive</th>\n",
       "      <th>source</th>\n",
       "      <th>text</th>\n",
       "      <th>tweets ago</th>\n",
       "    </tr>\n",
       "  </thead>\n",
       "  <tbody>\n",
       "    <tr>\n",
       "      <th>0</th>\n",
       "      <td>0.2263</td>\n",
       "      <td>Thu Sep 27 17:02:07 +0000 2018</td>\n",
       "      <td>0.089</td>\n",
       "      <td>0.155</td>\n",
       "      <td>@BBC</td>\n",
       "      <td>This is the quiz where you have to play the an...</td>\n",
       "      <td>1</td>\n",
       "    </tr>\n",
       "    <tr>\n",
       "      <th>1</th>\n",
       "      <td>-0.1280</td>\n",
       "      <td>Thu Sep 27 16:03:09 +0000 2018</td>\n",
       "      <td>0.067</td>\n",
       "      <td>0.000</td>\n",
       "      <td>@BBC</td>\n",
       "      <td>Got a bag of frozen peas lurking at the back o...</td>\n",
       "      <td>2</td>\n",
       "    </tr>\n",
       "    <tr>\n",
       "      <th>2</th>\n",
       "      <td>-0.5574</td>\n",
       "      <td>Thu Sep 27 15:31:07 +0000 2018</td>\n",
       "      <td>0.194</td>\n",
       "      <td>0.000</td>\n",
       "      <td>@BBC</td>\n",
       "      <td>John Cunliffe, creator of Postman Pat and Rosi...</td>\n",
       "      <td>3</td>\n",
       "    </tr>\n",
       "    <tr>\n",
       "      <th>3</th>\n",
       "      <td>0.5719</td>\n",
       "      <td>Thu Sep 27 15:06:35 +0000 2018</td>\n",
       "      <td>0.000</td>\n",
       "      <td>0.171</td>\n",
       "      <td>@BBC</td>\n",
       "      <td>Flying squirrels are secretive creatures but i...</td>\n",
       "      <td>4</td>\n",
       "    </tr>\n",
       "    <tr>\n",
       "      <th>4</th>\n",
       "      <td>-0.4201</td>\n",
       "      <td>Thu Sep 27 14:03:05 +0000 2018</td>\n",
       "      <td>0.117</td>\n",
       "      <td>0.000</td>\n",
       "      <td>@BBC</td>\n",
       "      <td>\"It's very difficult not to tie your self-wort...</td>\n",
       "      <td>5</td>\n",
       "    </tr>\n",
       "  </tbody>\n",
       "</table>\n",
       "</div>"
      ],
      "text/plain": [
       "   compound                            date  negative  positive source  \\\n",
       "0    0.2263  Thu Sep 27 17:02:07 +0000 2018     0.089     0.155   @BBC   \n",
       "1   -0.1280  Thu Sep 27 16:03:09 +0000 2018     0.067     0.000   @BBC   \n",
       "2   -0.5574  Thu Sep 27 15:31:07 +0000 2018     0.194     0.000   @BBC   \n",
       "3    0.5719  Thu Sep 27 15:06:35 +0000 2018     0.000     0.171   @BBC   \n",
       "4   -0.4201  Thu Sep 27 14:03:05 +0000 2018     0.117     0.000   @BBC   \n",
       "\n",
       "                                                text  tweets ago  \n",
       "0  This is the quiz where you have to play the an...           1  \n",
       "1  Got a bag of frozen peas lurking at the back o...           2  \n",
       "2  John Cunliffe, creator of Postman Pat and Rosi...           3  \n",
       "3  Flying squirrels are secretive creatures but i...           4  \n",
       "4  \"It's very difficult not to tie your self-wort...           5  "
      ]
     },
     "execution_count": 22,
     "metadata": {},
     "output_type": "execute_result"
    }
   ],
   "source": [
    "# Convert sentiments to DataFrame\n",
    "sentiments_pd = pd.DataFrame.from_dict(sentiment)\n",
    "sentiments_pd.head()"
   ]
  },
  {
   "cell_type": "code",
   "execution_count": 23,
   "metadata": {},
   "outputs": [],
   "source": [
    "# Create plot\n"
   ]
  },
  {
   "cell_type": "code",
   "execution_count": null,
   "metadata": {},
   "outputs": [],
   "source": []
  }
 ],
 "metadata": {
  "anaconda-cloud": {},
  "kernelspec": {
   "display_name": "Python [conda env:PythonData]",
   "language": "python",
   "name": "conda-env-PythonData-py"
  },
  "language_info": {
   "codemirror_mode": {
    "name": "ipython",
    "version": 3
   },
   "file_extension": ".py",
   "mimetype": "text/x-python",
   "name": "python",
   "nbconvert_exporter": "python",
   "pygments_lexer": "ipython3",
   "version": "3.6.5"
  },
  "varInspector": {
   "cols": {
    "lenName": 16,
    "lenType": 16,
    "lenVar": 40
   },
   "kernels_config": {
    "python": {
     "delete_cmd_postfix": "",
     "delete_cmd_prefix": "del ",
     "library": "var_list.py",
     "varRefreshCmd": "print(var_dic_list())"
    },
    "r": {
     "delete_cmd_postfix": ") ",
     "delete_cmd_prefix": "rm(",
     "library": "var_list.r",
     "varRefreshCmd": "cat(var_dic_list()) "
    }
   },
   "types_to_exclude": [
    "module",
    "function",
    "builtin_function_or_method",
    "instance",
    "_Feature"
   ],
   "window_display": false
  }
 },
 "nbformat": 4,
 "nbformat_minor": 1
}
